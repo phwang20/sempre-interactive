{
 "cells": [
  {
   "cell_type": "code",
   "execution_count": 30,
   "metadata": {
    "collapsed": false
   },
   "outputs": [],
   "source": [
    "import requests\n",
    "import json\n",
    "#accepts uterance and gives candidates\n",
    "def q(query):\n",
    "    r = requests.get('http://localhost:8410/sempre?q=(:q \"%s\")' % query)\n",
    "    derivs = json.loads(r.content)['candidates'];\n",
    "    for d in derivs:\n",
    "        print d['value']\n",
    "        plt.figure()\n",
    "        eval(d['value'])\n",
    "#recursively finds the enum stuff\n",
    "def traverse(dictionary):\n",
    "    a = []\n",
    "    for key in dictionary.keys():\n",
    "        if key=='enum':\n",
    "            a = a + list(dictionary[key])\n",
    "        elif isinstance(dictionary[key],dict):\n",
    "            a = a + list(traverse(dictionary[key]))\n",
    "    return a \n",
    "#takes utterance and gives recommended word\n",
    "def autocomplete(live_utterance, keyword_list):\n",
    "    last_live_token = live_utterance.split()[-1]\n",
    "    candidates = []\n",
    "    for word in keyword_list:\n",
    "        if last_live_token == word[0:len(last_live_token)]:\n",
    "            candidates.append(word)\n",
    "    return candidates"
   ]
  },
  {
   "cell_type": "code",
   "execution_count": 21,
   "metadata": {
    "collapsed": false
   },
   "outputs": [
    {
     "data": {
      "text/plain": [
       "[u'checkbox',\n",
       " u'text',\n",
       " u'global',\n",
       " u'month',\n",
       " u'radio',\n",
       " u'line',\n",
       " u'row',\n",
       " u'q1',\n",
       " u'q3',\n",
       " u'temporal',\n",
       " u'utcmonth',\n",
       " u'rgb',\n",
       " u'nominal',\n",
       " u'bin-linear',\n",
       " u'utcyearmonthdate',\n",
       " u'tsv',\n",
       " u'utcminutesseconds',\n",
       " u'circle',\n",
       " u'utcyearquartermonth',\n",
       " u'none',\n",
       " u'band',\n",
       " u'tick',\n",
       " u'day',\n",
       " u'utchoursminutesseconds',\n",
       " u'bar',\n",
       " u'yearmonthdatehoursminutesseconds',\n",
       " u'yearmonthdatehours',\n",
       " u'monthdate',\n",
       " u'median',\n",
       " u'quarter',\n",
       " u'valid',\n",
       " u'mean',\n",
       " u'stdevp',\n",
       " u'square',\n",
       " u'utcyearmonthdatehours',\n",
       " u'basis-closed',\n",
       " u'argmax',\n",
       " u'box-plot',\n",
       " u'zero',\n",
       " u'utchoursminutes',\n",
       " u'year',\n",
       " u'bold',\n",
       " u'basis-open',\n",
       " u'bottom',\n",
       " u'gradient',\n",
       " u'linear-closed',\n",
       " u'sum',\n",
       " u'utcyearmonthdatehoursminutesseconds',\n",
       " u'yearmonth',\n",
       " u'sequential',\n",
       " u'intersect',\n",
       " u'utcyearmonth',\n",
       " u'shared',\n",
       " u'utcday',\n",
       " u'hcl',\n",
       " u'cubehelix',\n",
       " u'linear',\n",
       " u'vertical',\n",
       " u'missing',\n",
       " u'seconds',\n",
       " u'monotone',\n",
       " u'utcseconds',\n",
       " u'hsl',\n",
       " u'hours',\n",
       " u'topojson',\n",
       " u'lab',\n",
       " u'stdev',\n",
       " u'linepoint',\n",
       " u'rect',\n",
       " u'hoursminutes',\n",
       " u'utcmonthdate',\n",
       " u'column',\n",
       " u'area',\n",
       " u'step',\n",
       " u'utcyear',\n",
       " u'utchours',\n",
       " u'hcl-long',\n",
       " u'union',\n",
       " u'range',\n",
       " u'variance',\n",
       " u'secondsmilliseconds',\n",
       " u'union_others',\n",
       " u'point',\n",
       " u'bin-ordinal',\n",
       " u'pow',\n",
       " u'right',\n",
       " u'utcyearquarter',\n",
       " u'select',\n",
       " u'hsl-long',\n",
       " u'log',\n",
       " u'cubehelix-long',\n",
       " u'basis',\n",
       " u'distinct',\n",
       " u'top',\n",
       " u'json',\n",
       " u'ci1',\n",
       " u'ci0',\n",
       " u'italic',\n",
       " u'milliseconds',\n",
       " u'utcquartermonth',\n",
       " u'utcquarter',\n",
       " u'cardinal-closed',\n",
       " u'count',\n",
       " u'utc',\n",
       " u'multi',\n",
       " u'argmin',\n",
       " u'intersect_others',\n",
       " u'variancep',\n",
       " u'cardinal-open',\n",
       " u'error-bar',\n",
       " u'values',\n",
       " u'minutes',\n",
       " u'step-after',\n",
       " u'minutesseconds',\n",
       " u'yearmonthdatehoursminutes',\n",
       " u'middle',\n",
       " u'single',\n",
       " u'normalize',\n",
       " u'yearquartermonth',\n",
       " u'min',\n",
       " u'step-before',\n",
       " u'yearmonthdate',\n",
       " u'sqrt',\n",
       " u'modeskew',\n",
       " u'cardinal',\n",
       " u'utcyearmonthdatehoursminutes',\n",
       " u'csv',\n",
       " u'ordinal',\n",
       " u'independent',\n",
       " u'normal',\n",
       " u'yearquarter',\n",
       " u'max',\n",
       " u'symbol',\n",
       " u'bundle',\n",
       " u'utcmilliseconds',\n",
       " u'hoursminutesseconds',\n",
       " u'date',\n",
       " u'utcsecondsmilliseconds',\n",
       " u'horizontal',\n",
       " u'utcminutes',\n",
       " u'utcdate',\n",
       " u'center',\n",
       " u'average',\n",
       " u'interval',\n",
       " u'rule',\n",
       " u'quartermonth',\n",
       " u'time',\n",
       " u'quantitative',\n",
       " u'left']"
      ]
     },
     "execution_count": 21,
     "metadata": {},
     "output_type": "execute_result"
    }
   ],
   "source": [
    "with open(\"v2.json\") as json_data:\n",
    "    d=json.load(json_data)\n",
    "lists = traverse(d)\n",
    "sets = set(lists)\n",
    "lists = list(sets)\n",
    "lists"
   ]
  },
  {
   "cell_type": "code",
   "execution_count": 35,
   "metadata": {
    "collapsed": false
   },
   "outputs": [
    {
     "data": {
      "text/plain": [
       "[u'argmax', u'area', u'argmin']"
      ]
     },
     "execution_count": 35,
     "metadata": {},
     "output_type": "execute_result"
    }
   ],
   "source": [
    "autocomplete(\"add ar\",lists)"
   ]
  },
  {
   "cell_type": "code",
   "execution_count": 27,
   "metadata": {
    "collapsed": false
   },
   "outputs": [
    {
     "data": {
      "text/plain": [
       "'apple'"
      ]
     },
     "execution_count": 27,
     "metadata": {},
     "output_type": "execute_result"
    }
   ],
   "source": [
    "\"apple\"[0:len(\"apple\")]"
   ]
  },
  {
   "cell_type": "code",
   "execution_count": null,
   "metadata": {
    "collapsed": true
   },
   "outputs": [],
   "source": []
  }
 ],
 "metadata": {
  "kernelspec": {
   "display_name": "Python 2",
   "language": "python",
   "name": "python2"
  },
  "language_info": {
   "codemirror_mode": {
    "name": "ipython",
    "version": 2
   },
   "file_extension": ".py",
   "mimetype": "text/x-python",
   "name": "python",
   "nbconvert_exporter": "python",
   "pygments_lexer": "ipython2",
   "version": "2.7.12"
  }
 },
 "nbformat": 4,
 "nbformat_minor": 0
}
